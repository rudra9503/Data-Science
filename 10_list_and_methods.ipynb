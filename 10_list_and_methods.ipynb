{
 "cells": [
  {
   "cell_type": "markdown",
   "id": "27c0a330-21d6-40b4-9c22-d4ddab2c49b3",
   "metadata": {},
   "source": [
    "**LIST AND LIST METHODS**\n",
    "\n",
    "Its a collection of items with same datatype or multiple datatypes.\n"
   ]
  },
  {
   "cell_type": "code",
   "execution_count": 1,
   "id": "155ecf9d-1f0b-4d0f-8c0f-de5139662864",
   "metadata": {},
   "outputs": [],
   "source": [
    "l = [1, 7, 10, 11]\n"
   ]
  },
  {
   "cell_type": "code",
   "execution_count": 3,
   "id": "5e5c0135-df99-4af8-b88e-a07abff36973",
   "metadata": {},
   "outputs": [
    {
     "data": {
      "text/plain": [
       "7"
      ]
     },
     "execution_count": 3,
     "metadata": {},
     "output_type": "execute_result"
    }
   ],
   "source": [
    "l[1]  #return the item based on the indexing of list"
   ]
  },
  {
   "cell_type": "markdown",
   "id": "9bdf1956-42dc-4ad8-b108-5b0391a0f476",
   "metadata": {},
   "source": [
    "**METHODS**"
   ]
  },
  {
   "cell_type": "code",
   "execution_count": 4,
   "id": "6ed5a544-2a03-487f-9207-e7a8795d3fbb",
   "metadata": {},
   "outputs": [],
   "source": [
    "l.append(3)"
   ]
  },
  {
   "cell_type": "code",
   "execution_count": 5,
   "id": "c5852044-4098-46ab-88b3-9dd808e326c4",
   "metadata": {},
   "outputs": [
    {
     "name": "stdout",
     "output_type": "stream",
     "text": [
      "[1, 7, 10, 11, 3]\n"
     ]
    }
   ],
   "source": [
    "print(l)\n"
   ]
  },
  {
   "cell_type": "code",
   "execution_count": 6,
   "id": "eed7558d-277e-48a2-8da1-023cd0e65ee2",
   "metadata": {},
   "outputs": [],
   "source": [
    "l2 = [28, 30]"
   ]
  },
  {
   "cell_type": "code",
   "execution_count": 7,
   "id": "8ead5df6-8de6-4d4d-a0a9-607459d12f39",
   "metadata": {},
   "outputs": [],
   "source": [
    "l.extend(l2)"
   ]
  },
  {
   "cell_type": "code",
   "execution_count": 8,
   "id": "b5360d0a-5249-4b60-9d64-75a31c86f5d2",
   "metadata": {},
   "outputs": [
    {
     "name": "stdout",
     "output_type": "stream",
     "text": [
      "[1, 7, 10, 11, 3, 28, 30]\n"
     ]
    }
   ],
   "source": [
    "print(l)"
   ]
  },
  {
   "cell_type": "code",
   "execution_count": 10,
   "id": "848dca0f-0610-434b-b7be-e2023aacf689",
   "metadata": {},
   "outputs": [
    {
     "name": "stdout",
     "output_type": "stream",
     "text": [
      "[1, 9, 9, 7, 10, 11, 3, 28, 30]\n"
     ]
    }
   ],
   "source": [
    "l.insert(1, 9)\n",
    "\n",
    "print(l)"
   ]
  },
  {
   "cell_type": "code",
   "execution_count": 15,
   "id": "a22da72d-4ed3-4529-9557-29a20e95b7b8",
   "metadata": {},
   "outputs": [
    {
     "name": "stdout",
     "output_type": "stream",
     "text": [
      "Removed Item is 9\n",
      "Removed Item is [1, 9, 7, 10]\n"
     ]
    }
   ],
   "source": [
    "popped_item= l.pop(1)\n",
    "\n",
    "print(f\"Removed Item is {popped_item}\")\n",
    "print(f\"Removed Item is {l}\")\n"
   ]
  },
  {
   "cell_type": "code",
   "execution_count": 16,
   "id": "b22ec798-4eea-410f-8158-b74374a25d86",
   "metadata": {},
   "outputs": [
    {
     "data": {
      "text/plain": [
       "2"
      ]
     },
     "execution_count": 16,
     "metadata": {},
     "output_type": "execute_result"
    }
   ],
   "source": [
    "l.index(7)"
   ]
  },
  {
   "cell_type": "code",
   "execution_count": 24,
   "id": "35b3966c-f490-4525-99a2-da760dcd6d9d",
   "metadata": {},
   "outputs": [
    {
     "name": "stdout",
     "output_type": "stream",
     "text": [
      "[1, 9, 7, 10, 7, 7, 7, 7, 7, 7, 7]\n",
      "{8}\n"
     ]
    }
   ],
   "source": [
    "l.append(7)\n",
    "new = l.count(7)\n",
    "print(l)\n",
    "print({new})"
   ]
  },
  {
   "cell_type": "code",
   "execution_count": 26,
   "id": "370e1c6c-817c-457b-ad97-91387b19acfc",
   "metadata": {},
   "outputs": [
    {
     "name": "stdout",
     "output_type": "stream",
     "text": [
      "[1, 7, 7, 7, 7, 7, 7, 7, 7, 9, 10]\n"
     ]
    }
   ],
   "source": [
    "l.sort()\n",
    "print(l)"
   ]
  },
  {
   "cell_type": "code",
   "execution_count": 27,
   "id": "44b1d796-af92-4d80-b0ff-dbb0840fc7c4",
   "metadata": {},
   "outputs": [
    {
     "data": {
      "text/plain": [
       "[1, 4, 'Rudraksh', [5, 6], 8]"
      ]
     },
     "execution_count": 27,
     "metadata": {},
     "output_type": "execute_result"
    }
   ],
   "source": [
    "#NESTED LIST\n",
    "\n",
    "x = [ 1, 4, \"Rudraksh\", [ 5, 6], 8]\n",
    "\n",
    "x"
   ]
  },
  {
   "cell_type": "code",
   "execution_count": 28,
   "id": "da4dba30-25a3-4aa0-8134-833862e328c0",
   "metadata": {},
   "outputs": [
    {
     "data": {
      "text/plain": [
       "6"
      ]
     },
     "execution_count": 28,
     "metadata": {},
     "output_type": "execute_result"
    }
   ],
   "source": [
    "x[3][1]"
   ]
  },
  {
   "cell_type": "code",
   "execution_count": 31,
   "id": "54345e2e-1cd8-40a1-a3c8-caee6876687f",
   "metadata": {},
   "outputs": [
    {
     "name": "stdout",
     "output_type": "stream",
     "text": [
      "[1, 7, 7, 7, 7, 7, 7, 7, 7, 9, 10, 1, 4, 'Rudraksh', [5, 6], 8]\n"
     ]
    }
   ],
   "source": [
    "Y = l + x\n",
    "\n",
    "print(Y)"
   ]
  },
  {
   "cell_type": "code",
   "execution_count": 33,
   "id": "27893236-7bb7-418d-aa55-7f043584b15b",
   "metadata": {},
   "outputs": [
    {
     "name": "stdout",
     "output_type": "stream",
     "text": [
      "yes\n"
     ]
    }
   ],
   "source": [
    "if \"Rudraksh\" in Y:\n",
    "    print(\"yes\")"
   ]
  },
  {
   "cell_type": "code",
   "execution_count": null,
   "id": "fc296453-08d7-439f-b6e5-c67c6daa507b",
   "metadata": {},
   "outputs": [],
   "source": []
  }
 ],
 "metadata": {
  "kernelspec": {
   "display_name": "Python [conda env:base] *",
   "language": "python",
   "name": "conda-base-py"
  },
  "language_info": {
   "codemirror_mode": {
    "name": "ipython",
    "version": 3
   },
   "file_extension": ".py",
   "mimetype": "text/x-python",
   "name": "python",
   "nbconvert_exporter": "python",
   "pygments_lexer": "ipython3",
   "version": "3.13.5"
  }
 },
 "nbformat": 4,
 "nbformat_minor": 5
}
