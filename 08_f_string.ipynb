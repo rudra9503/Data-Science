{
 "cells": [
  {
   "cell_type": "markdown",
   "id": "b6fd6507-8b57-4aa5-b867-3969efc2e36e",
   "metadata": {},
   "source": [
    "**STRING FORMATING IN PYTHON**"
   ]
  },
  {
   "cell_type": "markdown",
   "id": "a665ac24-7474-440f-8d38-85ee5c6720bf",
   "metadata": {},
   "source": [
    "Python provides multiple ways to format string, include fromat() method and f-string."
   ]
  },
  {
   "cell_type": "markdown",
   "id": "0dfb166e-8dcf-40f4-98e4-a14ceec9b4a6",
   "metadata": {},
   "source": [
    "**USING format()**"
   ]
  },
  {
   "cell_type": "code",
   "execution_count": 7,
   "id": "0ad052f0-884f-46b6-ab42-fc93be072030",
   "metadata": {},
   "outputs": [
    {
     "name": "stdout",
     "output_type": "stream",
     "text": [
      "My name is Karan and I am 23 year old, Nice to meet you all of you...\n"
     ]
    }
   ],
   "source": [
    "name = \"Karan\"\n",
    "age = 23\n",
    "\n",
    "print(\"My name is {} and I am {} year old, Nice to meet you all of you...\".format(name,age))"
   ]
  },
  {
   "cell_type": "markdown",
   "id": "ecde162a-eb6f-4a16-a996-e51ebf3879c5",
   "metadata": {},
   "source": [
    "**USING f-string**"
   ]
  },
  {
   "cell_type": "code",
   "execution_count": 8,
   "id": "a03444de-ad77-43d3-8e63-321b5ee64d41",
   "metadata": {},
   "outputs": [
    {
     "name": "stdout",
     "output_type": "stream",
     "text": [
      "My name is Karan and I am 23 year old, Nice to meet you all of you...\n"
     ]
    }
   ],
   "source": [
    "print(f\"My name is {name} and I am {age} year old, Nice to meet you all of you...\")"
   ]
  },
  {
   "cell_type": "code",
   "execution_count": 9,
   "id": "f6464cef-5c7d-4402-889d-b6d8e6b71ec5",
   "metadata": {},
   "outputs": [
    {
     "name": "stdout",
     "output_type": "stream",
     "text": [
      "The Sum of a & b is 15 and avrage of a & b is 12.5.\n"
     ]
    }
   ],
   "source": [
    "a = 10\n",
    "b= 5\n",
    "\n",
    "print(f\"The Sum of a & b is {a+b} and avrage of a & b is {a+b/2}.\")"
   ]
  },
  {
   "cell_type": "markdown",
   "id": "7c6afef4-e96c-485b-a0f1-ea38909590e0",
   "metadata": {},
   "source": [
    "**PADDING USING f-string**"
   ]
  },
  {
   "cell_type": "code",
   "execution_count": 11,
   "id": "d906e153-8ac4-49aa-94b5-467c6bfccc61",
   "metadata": {},
   "outputs": [
    {
     "name": "stdout",
     "output_type": "stream",
     "text": [
      "Rudraksh       \n",
      "       Rudraksh\n",
      "   Rudraksh    \n"
     ]
    }
   ],
   "source": [
    "print(f\"{'Rudraksh':<15}\") #left allign \n",
    "print(f\"{'Rudraksh':>15}\") #Right allign\n",
    "print(f\"{'Rudraksh':^15}\") #Center allign \n",
    "\n",
    "#in this the string have 15 length of character with different allingments.."
   ]
  },
  {
   "cell_type": "code",
   "execution_count": null,
   "id": "32782a5f-19c9-4299-97c2-e6aa078f1a00",
   "metadata": {},
   "outputs": [],
   "source": []
  }
 ],
 "metadata": {
  "kernelspec": {
   "display_name": "Python [conda env:base] *",
   "language": "python",
   "name": "conda-base-py"
  },
  "language_info": {
   "codemirror_mode": {
    "name": "ipython",
    "version": 3
   },
   "file_extension": ".py",
   "mimetype": "text/x-python",
   "name": "python",
   "nbconvert_exporter": "python",
   "pygments_lexer": "ipython3",
   "version": "3.13.5"
  }
 },
 "nbformat": 4,
 "nbformat_minor": 5
}
