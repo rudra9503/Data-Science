{
 "cells": [
  {
   "cell_type": "markdown",
   "id": "5c7d7124-5fc1-4e51-bef0-c304d251b798",
   "metadata": {},
   "source": [
    "**Operators Precedence** Important Topic\n",
    "\n",
    "**PEDMAS** - In python the operatons are performed by the PEDMAS method like BODMAS.\n",
    "Here executions of operations performed described below..\n",
    "\n",
    "- Parntheses ()\n",
    "- Exponents **\n",
    "- Division /\n",
    "- Multiplication *\n",
    "- Addition +\n",
    "- Substraction - "
   ]
  },
  {
   "cell_type": "code",
   "execution_count": 1,
   "id": "fbffa706-92ea-42e8-9730-cb9adbdc9214",
   "metadata": {},
   "outputs": [],
   "source": [
    "pedmas_result = (4 + 6 * ( 4 - 2) / 2) **2"
   ]
  },
  {
   "cell_type": "code",
   "execution_count": 2,
   "id": "53e71c57-02a7-468d-92ba-8cb43dbea0fb",
   "metadata": {},
   "outputs": [
    {
     "name": "stdout",
     "output_type": "stream",
     "text": [
      "100.0\n"
     ]
    }
   ],
   "source": [
    "print(pedmas_result)"
   ]
  }
 ],
 "metadata": {
  "kernelspec": {
   "display_name": "Python [conda env:base] *",
   "language": "python",
   "name": "conda-base-py"
  },
  "language_info": {
   "codemirror_mode": {
    "name": "ipython",
    "version": 3
   },
   "file_extension": ".py",
   "mimetype": "text/x-python",
   "name": "python",
   "nbconvert_exporter": "python",
   "pygments_lexer": "ipython3",
   "version": "3.13.5"
  }
 },
 "nbformat": 4,
 "nbformat_minor": 5
}
