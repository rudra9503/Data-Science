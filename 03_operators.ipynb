{
 "cells": [
  {
   "cell_type": "markdown",
   "id": "bf32a173-04fb-4715-bd74-89eeb43e52db",
   "metadata": {},
   "source": [
    "Here we are working with the operators.."
   ]
  },
  {
   "cell_type": "markdown",
   "id": "c3f26b32-8d62-4456-bf06-a5aabd3fc1da",
   "metadata": {},
   "source": [
    "**ARITHMATIC OPERATORS**"
   ]
  },
  {
   "cell_type": "code",
   "execution_count": 2,
   "id": "5adf49ab-882f-443e-a870-77b249a4764f",
   "metadata": {},
   "outputs": [],
   "source": [
    "a = 10\n",
    "b = 5"
   ]
  },
  {
   "cell_type": "code",
   "execution_count": 3,
   "id": "a43c17d3-1812-4d0a-a70b-422eb74caac7",
   "metadata": {},
   "outputs": [
    {
     "data": {
      "text/plain": [
       "15"
      ]
     },
     "execution_count": 3,
     "metadata": {},
     "output_type": "execute_result"
    }
   ],
   "source": [
    "a + b\n"
   ]
  },
  {
   "cell_type": "code",
   "execution_count": 4,
   "id": "cc6f0a6c-06d6-41fc-b8cd-c7cbaed6887c",
   "metadata": {},
   "outputs": [
    {
     "data": {
      "text/plain": [
       "5"
      ]
     },
     "execution_count": 4,
     "metadata": {},
     "output_type": "execute_result"
    }
   ],
   "source": [
    "a - b"
   ]
  },
  {
   "cell_type": "code",
   "execution_count": 5,
   "id": "874e413b-600a-4114-85d6-c45fae85a6d0",
   "metadata": {},
   "outputs": [
    {
     "data": {
      "text/plain": [
       "50"
      ]
     },
     "execution_count": 5,
     "metadata": {},
     "output_type": "execute_result"
    }
   ],
   "source": [
    "a * b"
   ]
  },
  {
   "cell_type": "code",
   "execution_count": 6,
   "id": "7f78819d-2986-4f50-933d-c2f8d2b27678",
   "metadata": {},
   "outputs": [
    {
     "data": {
      "text/plain": [
       "2.0"
      ]
     },
     "execution_count": 6,
     "metadata": {},
     "output_type": "execute_result"
    }
   ],
   "source": [
    "a / b"
   ]
  },
  {
   "cell_type": "code",
   "execution_count": 8,
   "id": "81256536-0ce6-43a6-a1b6-82804e6a78b9",
   "metadata": {},
   "outputs": [
    {
     "data": {
      "text/plain": [
       "2"
      ]
     },
     "execution_count": 8,
     "metadata": {},
     "output_type": "execute_result"
    }
   ],
   "source": [
    "a // b #Floor Divider which gives the full int value after the operations "
   ]
  },
  {
   "cell_type": "code",
   "execution_count": 10,
   "id": "35c8f085-e970-43a6-9f7c-df5edab2199a",
   "metadata": {},
   "outputs": [
    {
     "data": {
      "text/plain": [
       "0"
      ]
     },
     "execution_count": 10,
     "metadata": {},
     "output_type": "execute_result"
    }
   ],
   "source": [
    "a % b  # Gives us the Molduler Values (Reminder values) "
   ]
  },
  {
   "cell_type": "code",
   "execution_count": 12,
   "id": "97302f15-3026-4472-bc6e-522e6223de86",
   "metadata": {},
   "outputs": [
    {
     "data": {
      "text/plain": [
       "100"
      ]
     },
     "execution_count": 12,
     "metadata": {},
     "output_type": "execute_result"
    }
   ],
   "source": [
    "a**2  # gives us the exponential values like a=10 so it consider the sqaure of a which output of 100"
   ]
  },
  {
   "cell_type": "markdown",
   "id": "3d09e68a-99a2-42c4-a9ab-be0ef201376d",
   "metadata": {},
   "source": [
    "**COMPARISON OPERATORS**"
   ]
  },
  {
   "cell_type": "code",
   "execution_count": 13,
   "id": "690c64a9-5b63-4749-b14e-d81d9befd08b",
   "metadata": {},
   "outputs": [],
   "source": [
    "a = 45"
   ]
  },
  {
   "cell_type": "code",
   "execution_count": 14,
   "id": "cc72cd6f-7e43-4ead-aadd-9045c016eed0",
   "metadata": {},
   "outputs": [],
   "source": [
    "b = 4"
   ]
  },
  {
   "cell_type": "code",
   "execution_count": 15,
   "id": "25cc25d5-322d-4e37-b813-1aa3f07136f9",
   "metadata": {},
   "outputs": [
    {
     "data": {
      "text/plain": [
       "True"
      ]
     },
     "execution_count": 15,
     "metadata": {},
     "output_type": "execute_result"
    }
   ],
   "source": [
    "a > b"
   ]
  },
  {
   "cell_type": "code",
   "execution_count": 16,
   "id": "b145eab5-436d-498e-88b0-3bfc6cab11eb",
   "metadata": {},
   "outputs": [
    {
     "data": {
      "text/plain": [
       "False"
      ]
     },
     "execution_count": 16,
     "metadata": {},
     "output_type": "execute_result"
    }
   ],
   "source": [
    "a < b"
   ]
  },
  {
   "cell_type": "code",
   "execution_count": 17,
   "id": "11de36e9-65dd-4492-9e95-65abe863a5a4",
   "metadata": {},
   "outputs": [
    {
     "data": {
      "text/plain": [
       "False"
      ]
     },
     "execution_count": 17,
     "metadata": {},
     "output_type": "execute_result"
    }
   ],
   "source": [
    "a<=b"
   ]
  },
  {
   "cell_type": "code",
   "execution_count": 18,
   "id": "fdb8b1a3-55e6-4d28-80d0-740518789881",
   "metadata": {},
   "outputs": [
    {
     "data": {
      "text/plain": [
       "True"
      ]
     },
     "execution_count": 18,
     "metadata": {},
     "output_type": "execute_result"
    }
   ],
   "source": [
    "a>=b"
   ]
  },
  {
   "cell_type": "code",
   "execution_count": 19,
   "id": "58ff4445-655a-44a0-87ff-387bc9143047",
   "metadata": {},
   "outputs": [],
   "source": [
    "c = 10"
   ]
  },
  {
   "cell_type": "code",
   "execution_count": 20,
   "id": "148479ce-5f1d-4d01-bbe6-380444d15541",
   "metadata": {},
   "outputs": [
    {
     "data": {
      "text/plain": [
       "False"
      ]
     },
     "execution_count": 20,
     "metadata": {},
     "output_type": "execute_result"
    }
   ],
   "source": [
    " a == c "
   ]
  },
  {
   "cell_type": "code",
   "execution_count": 21,
   "id": "18d7bbec-9af2-4bbe-8a4b-22f64c4d8c50",
   "metadata": {},
   "outputs": [
    {
     "data": {
      "text/plain": [
       "True"
      ]
     },
     "execution_count": 21,
     "metadata": {},
     "output_type": "execute_result"
    }
   ],
   "source": [
    "a != c"
   ]
  },
  {
   "cell_type": "markdown",
   "id": "55ef7ccd-323f-4e95-86c4-d17dcbc78ae1",
   "metadata": {},
   "source": [
    "**LOGICAL OPERATORS**"
   ]
  },
  {
   "cell_type": "markdown",
   "id": "ee2d4789-f194-4cbb-92fb-55a8db94b60e",
   "metadata": {},
   "source": [
    "AND OR NOT "
   ]
  },
  {
   "cell_type": "code",
   "execution_count": 22,
   "id": "179e1e3b-cb52-42d6-a29e-b664d987beda",
   "metadata": {},
   "outputs": [],
   "source": [
    "a1 = True\n",
    "b1 = False"
   ]
  },
  {
   "cell_type": "code",
   "execution_count": 23,
   "id": "ae3073bc-0249-4225-8314-4f0a6311ecce",
   "metadata": {},
   "outputs": [
    {
     "data": {
      "text/plain": [
       "True"
      ]
     },
     "execution_count": 23,
     "metadata": {},
     "output_type": "execute_result"
    }
   ],
   "source": [
    "not(b1) # reverse the boleens values through not operator"
   ]
  },
  {
   "cell_type": "code",
   "execution_count": 25,
   "id": "970c1b89-0a14-4613-b959-d6449004a475",
   "metadata": {},
   "outputs": [
    {
     "data": {
      "text/plain": [
       "False"
      ]
     },
     "execution_count": 25,
     "metadata": {},
     "output_type": "execute_result"
    }
   ],
   "source": [
    "not(a1) # reverse the boleens values through not operator"
   ]
  },
  {
   "cell_type": "code",
   "execution_count": 26,
   "id": "3042abef-4224-43ee-8939-b9449ff0d5ea",
   "metadata": {},
   "outputs": [
    {
     "data": {
      "text/plain": [
       "True"
      ]
     },
     "execution_count": 26,
     "metadata": {},
     "output_type": "execute_result"
    }
   ],
   "source": [
    "a1 or b1 # if any one vale is true returns true "
   ]
  },
  {
   "cell_type": "code",
   "execution_count": 27,
   "id": "00a1e9a4-5fcb-412c-8e8b-d09332c853c1",
   "metadata": {},
   "outputs": [
    {
     "data": {
      "text/plain": [
       "False"
      ]
     },
     "execution_count": 27,
     "metadata": {},
     "output_type": "execute_result"
    }
   ],
   "source": [
    "a1 and b1 # if any one value is true and another is false return false it require both values should true"
   ]
  },
  {
   "cell_type": "markdown",
   "id": "09bcd716-879f-4a6d-bf1a-ed269dd635d1",
   "metadata": {},
   "source": [
    "**BITWISE OPERATORS**"
   ]
  },
  {
   "cell_type": "markdown",
   "id": "fad2420b-746e-404a-8fca-99e6b6328024",
   "metadata": {},
   "source": [
    " & , |"
   ]
  },
  {
   "cell_type": "code",
   "execution_count": 28,
   "id": "5fbc11ef-b514-4389-8919-6f5d39d80d4f",
   "metadata": {},
   "outputs": [],
   "source": [
    "a = 5 \n",
    "b = 3"
   ]
  },
  {
   "cell_type": "code",
   "execution_count": 29,
   "id": "34205a28-9ab7-4892-83ba-a351da8b97e3",
   "metadata": {},
   "outputs": [
    {
     "data": {
      "text/plain": [
       "1"
      ]
     },
     "execution_count": 29,
     "metadata": {},
     "output_type": "execute_result"
    }
   ],
   "source": [
    "a & b # AND (&) use the binary seperation "
   ]
  },
  {
   "cell_type": "code",
   "execution_count": 31,
   "id": "f5156703-1345-4d31-ab8d-d6dda5d87e1a",
   "metadata": {},
   "outputs": [
    {
     "data": {
      "text/plain": [
       "7"
      ]
     },
     "execution_count": 31,
     "metadata": {},
     "output_type": "execute_result"
    }
   ],
   "source": [
    "a | b # OR (|) use binary seperation"
   ]
  },
  {
   "cell_type": "markdown",
   "id": "9a6ff6f9-e3c5-466f-8fee-0ba6fe27561d",
   "metadata": {},
   "source": [
    "**ASSINGMENT OPERATORS**\n"
   ]
  },
  {
   "cell_type": "markdown",
   "id": "2c09fa44-066c-4b3c-b8b7-0345fd2a829a",
   "metadata": {},
   "source": [
    "+= , -=,*=,/=,//=, %=, **="
   ]
  },
  {
   "cell_type": "code",
   "execution_count": 44,
   "id": "6c32744e-d282-45a0-8e53-73c5410be197",
   "metadata": {},
   "outputs": [],
   "source": [
    "a = 45"
   ]
  },
  {
   "cell_type": "code",
   "execution_count": 45,
   "id": "0df21656-ec97-4e98-bdbd-b0532d0ce48b",
   "metadata": {},
   "outputs": [],
   "source": [
    "a +=3"
   ]
  },
  {
   "cell_type": "code",
   "execution_count": 46,
   "id": "edc0fa40-345f-4f5c-b77f-e807434e9633",
   "metadata": {},
   "outputs": [
    {
     "data": {
      "text/plain": [
       "48"
      ]
     },
     "execution_count": 46,
     "metadata": {},
     "output_type": "execute_result"
    }
   ],
   "source": [
    "a"
   ]
  },
  {
   "cell_type": "markdown",
   "id": "5245f314-2b2b-421d-82ca-3815e3efbcdb",
   "metadata": {},
   "source": [
    "**IDENTITY OPERATOERS**"
   ]
  },
  {
   "cell_type": "markdown",
   "id": "40a54d3d-5aa1-4d8d-944d-774acf997323",
   "metadata": {},
   "source": [
    "in, not in, is, is not"
   ]
  },
  {
   "cell_type": "code",
   "execution_count": null,
   "id": "05fcbe01-b16a-4f7b-97ed-2b7d6e8867c7",
   "metadata": {},
   "outputs": [],
   "source": []
  }
 ],
 "metadata": {
  "kernelspec": {
   "display_name": "Python [conda env:base] *",
   "language": "python",
   "name": "conda-base-py"
  },
  "language_info": {
   "codemirror_mode": {
    "name": "ipython",
    "version": 3
   },
   "file_extension": ".py",
   "mimetype": "text/x-python",
   "name": "python",
   "nbconvert_exporter": "python",
   "pygments_lexer": "ipython3",
   "version": "3.13.5"
  }
 },
 "nbformat": 4,
 "nbformat_minor": 5
}
