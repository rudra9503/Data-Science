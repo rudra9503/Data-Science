{
 "cells": [
  {
   "cell_type": "code",
   "execution_count": 1,
   "id": "0aefda3b-4073-44db-8733-d613becdd7ce",
   "metadata": {},
   "outputs": [],
   "source": [
    "a = 5"
   ]
  },
  {
   "cell_type": "code",
   "execution_count": 2,
   "id": "24d1e33c-bd92-4882-be45-77cc55cf5261",
   "metadata": {},
   "outputs": [],
   "source": [
    "b = 32"
   ]
  },
  {
   "cell_type": "code",
   "execution_count": 3,
   "id": "b645c236-4603-4f28-be52-39590b2a6015",
   "metadata": {},
   "outputs": [
    {
     "data": {
      "text/plain": [
       "37"
      ]
     },
     "execution_count": 3,
     "metadata": {},
     "output_type": "execute_result"
    }
   ],
   "source": [
    "a+b"
   ]
  },
  {
   "cell_type": "code",
   "execution_count": 4,
   "id": "8b033910-1e8d-4299-8daf-59961a3e909b",
   "metadata": {},
   "outputs": [],
   "source": [
    "name = \"Rudraksh\""
   ]
  },
  {
   "cell_type": "code",
   "execution_count": 6,
   "id": "82097105-de7b-461a-b9d7-cb088a7687a9",
   "metadata": {},
   "outputs": [
    {
     "name": "stdout",
     "output_type": "stream",
     "text": [
      "Rudraksh\n"
     ]
    }
   ],
   "source": [
    "print(name)"
   ]
  },
  {
   "cell_type": "code",
   "execution_count": 7,
   "id": "ace34639-0198-4dae-aa81-750164a8867c",
   "metadata": {},
   "outputs": [],
   "source": [
    "#Comment Testing"
   ]
  },
  {
   "cell_type": "code",
   "execution_count": 15,
   "id": "888f871e-c617-4c08-8450-8725d2ee9aef",
   "metadata": {},
   "outputs": [
    {
     "name": "stdout",
     "output_type": "stream",
     "text": [
      "<class 'int'> <class 'int'> <class 'str'>\n"
     ]
    }
   ],
   "source": [
    "print(type(a),type(b),type(name))"
   ]
  },
  {
   "cell_type": "code",
   "execution_count": 23,
   "id": "31742da0-4be8-499b-a0cb-8090563e19be",
   "metadata": {},
   "outputs": [
    {
     "data": {
      "text/plain": [
       "'Multilne comment\\nits is\\n'"
      ]
     },
     "execution_count": 23,
     "metadata": {},
     "output_type": "execute_result"
    }
   ],
   "source": [
    "\"\"\"Multilne comment\n",
    "its is\n",
    "\"\"\""
   ]
  },
  {
   "cell_type": "markdown",
   "id": "e15b6475-6f79-49b8-a8a5-28d1db7128aa",
   "metadata": {},
   "source": [
    "#\n",
    "Type Casting \n",
    "whre we can convert/use the varibale as we want\n"
   ]
  },
  {
   "cell_type": "code",
   "execution_count": 24,
   "id": "6405de60-d256-4ca9-8496-e8d1ad0b9a99",
   "metadata": {},
   "outputs": [],
   "source": [
    "a = \"27364762736\""
   ]
  },
  {
   "cell_type": "code",
   "execution_count": 25,
   "id": "02f485d6-240e-40f2-aee2-011758e3acda",
   "metadata": {},
   "outputs": [],
   "source": [
    "b = \"7326747676374\""
   ]
  },
  {
   "cell_type": "code",
   "execution_count": 27,
   "id": "665f97ef-f804-4b12-b7d5-b4cd78809476",
   "metadata": {},
   "outputs": [
    {
     "data": {
      "text/plain": [
       "'273647627367326747676374'"
      ]
     },
     "execution_count": 27,
     "metadata": {},
     "output_type": "execute_result"
    }
   ],
   "source": [
    "a + b #here according to the type of variable concatination occurs"
   ]
  },
  {
   "cell_type": "code",
   "execution_count": 30,
   "id": "0383d3f2-d05e-45ef-a41f-023068430617",
   "metadata": {},
   "outputs": [
    {
     "data": {
      "text/plain": [
       "7354112439110"
      ]
     },
     "execution_count": 30,
     "metadata": {},
     "output_type": "execute_result"
    }
   ],
   "source": [
    "int (a) + int (b) # here we performed the typoecasting where we defining the type of of variable as we want to consider"
   ]
  },
  {
   "cell_type": "code",
   "execution_count": null,
   "id": "1b471024-6363-46f2-96a5-0c6dfe544c7c",
   "metadata": {},
   "outputs": [],
   "source": []
  }
 ],
 "metadata": {
  "kernelspec": {
   "display_name": "Python [conda env:base] *",
   "language": "python",
   "name": "conda-base-py"
  },
  "language_info": {
   "codemirror_mode": {
    "name": "ipython",
    "version": 3
   },
   "file_extension": ".py",
   "mimetype": "text/x-python",
   "name": "python",
   "nbconvert_exporter": "python",
   "pygments_lexer": "ipython3",
   "version": "3.13.5"
  }
 },
 "nbformat": 4,
 "nbformat_minor": 5
}
