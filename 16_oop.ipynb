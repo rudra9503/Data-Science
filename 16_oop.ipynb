{
 "cells": [
  {
   "cell_type": "markdown",
   "id": "33e21a78-9b59-4c83-b185-6dc3daa41423",
   "metadata": {},
   "source": [
    "**OOP IN PYTHON**"
   ]
  },
  {
   "cell_type": "code",
   "execution_count": 7,
   "id": "c4a61aeb-1384-4122-bc9f-eb54e781ecfa",
   "metadata": {},
   "outputs": [
    {
     "name": "stdout",
     "output_type": "stream",
     "text": [
      "The company of Rudraksh, is Next In, with salary $100000\n"
     ]
    }
   ],
   "source": [
    "#class\n",
    "\n",
    "class Employee:\n",
    "    company = \"Next In\"\n",
    "    def __init__(self, name, salary):\n",
    "        self.name = name \n",
    "        self.salary= salary\n",
    "\n",
    "        \n",
    "    def printDetails(self):\n",
    "        print(f\"The company of {self.name}, is {self.company}, with salary ${self.salary}\")\n",
    "\n",
    "e = Employee(\"Rudraksh\", 100000)\n",
    "e.printDetails()"
   ]
  },
  {
   "cell_type": "code",
   "execution_count": 11,
   "id": "096cc1dc-c62b-405d-8bcd-fd3d4231090b",
   "metadata": {},
   "outputs": [
    {
     "name": "stdout",
     "output_type": "stream",
     "text": [
      "The company of Rudraksh, is Next In, with salary $100000\n",
      "The time is now\n",
      "The Company is Next In\n"
     ]
    }
   ],
   "source": [
    "class Employee:\n",
    "    company = \"Next In\"\n",
    "    def __init__(self, name, salary):\n",
    "        self.name = name \n",
    "        self.salary= salary\n",
    "\n",
    "        \n",
    "    def printDetails(self):\n",
    "        print(f\"The company of {self.name}, is {self.company}, with salary ${self.salary}\")\n",
    "\n",
    "    #to not use class attributes and want to run the function we have to declare firt the @staticmethod decorator\n",
    "    @staticmethod\n",
    "    def printTime():\n",
    "        print(f\"The time is now\")\n",
    "\n",
    "    #to use all class attributes we can use @classmethod decorator\n",
    "    @classmethod\n",
    "    def printClassDetails(cls):\n",
    "        print(f\"The Company is {cls.company}\")\n",
    "\n",
    "e = Employee(\"Rudraksh\", 100000)\n",
    "e.printDetails()\n",
    "e.printTime()\n",
    "e.printClassDetails()"
   ]
  },
  {
   "cell_type": "code",
   "execution_count": null,
   "id": "ae3fbd30-4b6b-4cc6-9ec7-2e82c27a0e85",
   "metadata": {},
   "outputs": [],
   "source": []
  }
 ],
 "metadata": {
  "kernelspec": {
   "display_name": "Python [conda env:base] *",
   "language": "python",
   "name": "conda-base-py"
  },
  "language_info": {
   "codemirror_mode": {
    "name": "ipython",
    "version": 3
   },
   "file_extension": ".py",
   "mimetype": "text/x-python",
   "name": "python",
   "nbconvert_exporter": "python",
   "pygments_lexer": "ipython3",
   "version": "3.13.5"
  }
 },
 "nbformat": 4,
 "nbformat_minor": 5
}
