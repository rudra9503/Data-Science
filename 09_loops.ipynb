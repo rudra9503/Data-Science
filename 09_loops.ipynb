{
 "cells": [
  {
   "cell_type": "markdown",
   "id": "3f2d67f3-7c83-4e22-96a4-ab1106a20a31",
   "metadata": {},
   "source": [
    "**LOOPS IN PYTHON**\n",
    "\n",
    "In python we have two main loops \"for\", \"while\".\n",
    "\n",
    "\n",
    "**FOR LOOP**"
   ]
  },
  {
   "cell_type": "code",
   "execution_count": 9,
   "id": "0a50c32f-abf9-4275-b0f3-d5321acb88cf",
   "metadata": {},
   "outputs": [],
   "source": [
    "lst = [ 1, 27,37,50,62 ]"
   ]
  },
  {
   "cell_type": "code",
   "execution_count": 2,
   "id": "31d9469e-691c-4831-a86f-8ddc99c5d90f",
   "metadata": {},
   "outputs": [
    {
     "name": "stdout",
     "output_type": "stream",
     "text": [
      "1\n",
      "27\n",
      "37\n",
      "50\n",
      "62\n"
     ]
    }
   ],
   "source": [
    "for roll_no in lst:     #for loop\n",
    "    print(roll_no)"
   ]
  },
  {
   "cell_type": "markdown",
   "id": "5352d8ab-c332-435e-9ad2-a71b2866d268",
   "metadata": {},
   "source": [
    "**FOR LOOP USING RANGE**"
   ]
  },
  {
   "cell_type": "code",
   "execution_count": 6,
   "id": "03b01e71-212d-420e-8e90-00b38ce01ff4",
   "metadata": {},
   "outputs": [
    {
     "name": "stdout",
     "output_type": "stream",
     "text": [
      "0\n",
      "1\n",
      "2\n",
      "3\n",
      "4\n",
      "5\n",
      "6\n",
      "7\n",
      "8\n",
      "9\n",
      "10\n",
      "11\n",
      "12\n",
      "13\n",
      "14\n"
     ]
    }
   ],
   "source": [
    "#Example \n",
    "\n",
    "#in python whenever we use range the end item of it is always \n",
    "#n-1 which is, if we have 15 in range so its starts from 0 and ends \n",
    "#on n-1 -> 15-1 \"14\". according to the rules of indexing.\n",
    "\n",
    "\n",
    "for i in range(15):\n",
    "    print(i)"
   ]
  },
  {
   "cell_type": "code",
   "execution_count": 7,
   "id": "990c5f45-5d54-4601-95cc-a01c0947aede",
   "metadata": {},
   "outputs": [
    {
     "name": "stdout",
     "output_type": "stream",
     "text": [
      "1\n",
      "2\n",
      "3\n",
      "4\n",
      "5\n",
      "6\n",
      "7\n",
      "8\n",
      "9\n",
      "10\n"
     ]
    }
   ],
   "source": [
    "for i in range(1,11):\n",
    "    print(i)"
   ]
  },
  {
   "cell_type": "code",
   "execution_count": 8,
   "id": "a932fa19-313e-4a48-a9fc-19fea127701e",
   "metadata": {},
   "outputs": [
    {
     "name": "stdout",
     "output_type": "stream",
     "text": [
      "5\n",
      "6\n",
      "7\n",
      "8\n",
      "9\n",
      "10\n"
     ]
    }
   ],
   "source": [
    "for i in range(5,11):\n",
    "    print(i)"
   ]
  },
  {
   "cell_type": "markdown",
   "id": "5bb2fc24-bfb0-4f79-ac21-e7c8b8b2ee8c",
   "metadata": {},
   "source": [
    "**WHILE LOOP**\n",
    "\n",
    "\n",
    "Run as long as condition is true..."
   ]
  },
  {
   "cell_type": "code",
   "execution_count": 16,
   "id": "34de52b6-53fe-42dc-85a8-bee3a60835fd",
   "metadata": {},
   "outputs": [
    {
     "name": "stdout",
     "output_type": "stream",
     "text": [
      "5\n",
      "6\n",
      "7\n",
      "8\n",
      "9\n",
      "10\n"
     ]
    }
   ],
   "source": [
    "#example \n",
    "\n",
    "count = 5\n",
    "while count <=10:\n",
    "    print(count)\n",
    "    count +=1"
   ]
  },
  {
   "cell_type": "markdown",
   "id": "bb20cec1-0e97-425d-8de6-259edbf69f12",
   "metadata": {},
   "source": [
    "**LOOP CONTROLE STATEMENTS**\n",
    "\n",
    "- Break: Exit the LOOP\n",
    "- continue: Skip to the next iteration.\n",
    "- pass: Does nothing (used for placeholders)"
   ]
  },
  {
   "cell_type": "code",
   "execution_count": 18,
   "id": "22a39361-17e1-469e-b733-e66cef2ef0a7",
   "metadata": {},
   "outputs": [
    {
     "name": "stdout",
     "output_type": "stream",
     "text": [
      "no one is here\n"
     ]
    }
   ],
   "source": [
    "#pass\n",
    "\n",
    "for i in lst:\n",
    "    pass\n",
    "print (\"no one is here\")"
   ]
  },
  {
   "cell_type": "code",
   "execution_count": 25,
   "id": "60cad058-c4ec-45ab-b19c-09ebe9e3b03f",
   "metadata": {},
   "outputs": [
    {
     "name": "stdout",
     "output_type": "stream",
     "text": [
      "1\n",
      "27\n",
      "37\n"
     ]
    }
   ],
   "source": [
    "#break- stop the loop\n",
    "\n",
    "lst = [ 1, 27,37,50,62 ]\n",
    "for item in lst:\n",
    "    if(item == 50):\n",
    "        break\n",
    "    print(item)"
   ]
  },
  {
   "cell_type": "code",
   "execution_count": 26,
   "id": "4707d5cb-5a95-4497-96de-1a87b82d6148",
   "metadata": {},
   "outputs": [
    {
     "name": "stdout",
     "output_type": "stream",
     "text": [
      "1\n",
      "27\n",
      "37\n",
      "62\n"
     ]
    }
   ],
   "source": [
    "#Continue skipps the iteration\n",
    "\n",
    "lst = [ 1, 27,37,50,62 ]\n",
    "for item in lst:\n",
    "    if(item == 50):\n",
    "        continue\n",
    "    print(item)"
   ]
  },
  {
   "cell_type": "code",
   "execution_count": null,
   "id": "b449fcc9-4986-4c17-9bf0-e68473977ade",
   "metadata": {},
   "outputs": [],
   "source": []
  }
 ],
 "metadata": {
  "kernelspec": {
   "display_name": "Python [conda env:base] *",
   "language": "python",
   "name": "conda-base-py"
  },
  "language_info": {
   "codemirror_mode": {
    "name": "ipython",
    "version": 3
   },
   "file_extension": ".py",
   "mimetype": "text/x-python",
   "name": "python",
   "nbconvert_exporter": "python",
   "pygments_lexer": "ipython3",
   "version": "3.13.5"
  }
 },
 "nbformat": 4,
 "nbformat_minor": 5
}
