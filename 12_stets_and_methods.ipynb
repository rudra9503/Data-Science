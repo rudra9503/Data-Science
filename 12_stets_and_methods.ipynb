{
 "cells": [
  {
   "cell_type": "markdown",
   "id": "551c4d14-e939-4cd6-b1e4-f34f8c573bd1",
   "metadata": {},
   "source": [
    "**SETS & METHODS IN PYTHON**\n",
    "\n",
    "It is a unoredred, mutable(changable), and unique collection of elements, it does not allow\n",
    "duplicate values"
   ]
  },
  {
   "cell_type": "code",
   "execution_count": 2,
   "id": "24d25efe-597b-48bb-b811-f22e887e5af6",
   "metadata": {},
   "outputs": [],
   "source": [
    "a = {}"
   ]
  },
  {
   "cell_type": "code",
   "execution_count": 3,
   "id": "c54c5895-4e04-4853-a9b4-40f936054b5a",
   "metadata": {},
   "outputs": [
    {
     "data": {
      "text/plain": [
       "dict"
      ]
     },
     "execution_count": 3,
     "metadata": {},
     "output_type": "execute_result"
    }
   ],
   "source": [
    "type(a)"
   ]
  },
  {
   "cell_type": "code",
   "execution_count": 4,
   "id": "d8f13378-7bdb-4017-816e-418605e0e84e",
   "metadata": {},
   "outputs": [],
   "source": [
    "# to crrate empty set we have to use panrantheses \n",
    "\n",
    "b = set()"
   ]
  },
  {
   "cell_type": "code",
   "execution_count": 5,
   "id": "d4878217-9790-441d-9445-56bff0d93ec2",
   "metadata": {},
   "outputs": [
    {
     "data": {
      "text/plain": [
       "set"
      ]
     },
     "execution_count": 5,
     "metadata": {},
     "output_type": "execute_result"
    }
   ],
   "source": [
    "type(b)"
   ]
  },
  {
   "cell_type": "code",
   "execution_count": 6,
   "id": "1d16ceb3-2c87-4bae-a62c-19b68abff793",
   "metadata": {},
   "outputs": [],
   "source": [
    "s = { 4, 5, 6, 7 }"
   ]
  },
  {
   "cell_type": "code",
   "execution_count": 7,
   "id": "cd32d88c-cd0c-44a8-a1e0-66812a668f3b",
   "metadata": {},
   "outputs": [
    {
     "data": {
      "text/plain": [
       "{4, 5, 6, 7}"
      ]
     },
     "execution_count": 7,
     "metadata": {},
     "output_type": "execute_result"
    }
   ],
   "source": [
    "s"
   ]
  },
  {
   "cell_type": "code",
   "execution_count": 8,
   "id": "037a9c29-9000-414e-bd95-4f4d02b9f72b",
   "metadata": {},
   "outputs": [],
   "source": [
    "#we cannot add duplicate values in set, it also dont have order for elements "
   ]
  },
  {
   "cell_type": "code",
   "execution_count": 11,
   "id": "f6c8b7cb-5959-4c4b-ba0f-020b0bf65275",
   "metadata": {},
   "outputs": [],
   "source": [
    "s = { 1, 1}"
   ]
  },
  {
   "cell_type": "code",
   "execution_count": 13,
   "id": "a47f2b94-a8e7-45c2-98f0-ddc34591b9d9",
   "metadata": {},
   "outputs": [
    {
     "data": {
      "text/plain": [
       "{1}"
      ]
     },
     "execution_count": 13,
     "metadata": {},
     "output_type": "execute_result"
    }
   ],
   "source": [
    "s"
   ]
  },
  {
   "cell_type": "code",
   "execution_count": 16,
   "id": "93fe797b-8970-4283-9654-f278fc314eda",
   "metadata": {},
   "outputs": [
    {
     "data": {
      "text/plain": [
       "{1, 22.5, 'Rudraksh'}"
      ]
     },
     "execution_count": 16,
     "metadata": {},
     "output_type": "execute_result"
    }
   ],
   "source": [
    "#set is collection of mixed datatypes\n",
    "ns = {1, \"Rudraksh\", 22.5, True}\n",
    "\n",
    "ns\n",
    "\n",
    "\n"
   ]
  },
  {
   "cell_type": "code",
   "execution_count": 19,
   "id": "4ed91c2b-6fa1-42dd-a745-6c63ba263dbc",
   "metadata": {},
   "outputs": [],
   "source": [
    "#typecasting \n",
    "\n",
    "age_set = set([ 22, 25, 23, 21, 24])"
   ]
  },
  {
   "cell_type": "code",
   "execution_count": 21,
   "id": "5a6856af-96d7-4dba-b9f8-884ffd6871dd",
   "metadata": {},
   "outputs": [
    {
     "data": {
      "text/plain": [
       "{21, 22, 23, 24, 25}"
      ]
     },
     "execution_count": 21,
     "metadata": {},
     "output_type": "execute_result"
    }
   ],
   "source": [
    "age_set"
   ]
  },
  {
   "cell_type": "code",
   "execution_count": 22,
   "id": "315a83a0-76aa-4509-b343-2739c48cd946",
   "metadata": {},
   "outputs": [],
   "source": [
    "age_set.update([27,28, 29,22])"
   ]
  },
  {
   "cell_type": "code",
   "execution_count": 23,
   "id": "c9434ad5-2f5e-4391-bbf1-9e90a864409c",
   "metadata": {},
   "outputs": [
    {
     "data": {
      "text/plain": [
       "{21, 22, 23, 24, 25, 27, 28, 29}"
      ]
     },
     "execution_count": 23,
     "metadata": {},
     "output_type": "execute_result"
    }
   ],
   "source": [
    "age_set"
   ]
  },
  {
   "cell_type": "code",
   "execution_count": 24,
   "id": "77754cf0-d3e5-453d-a24e-0bdc97df9d14",
   "metadata": {},
   "outputs": [],
   "source": [
    "age_set.remove(21)"
   ]
  },
  {
   "cell_type": "code",
   "execution_count": 25,
   "id": "0236294a-8856-40b6-b970-85281b5851c6",
   "metadata": {},
   "outputs": [
    {
     "data": {
      "text/plain": [
       "{22, 23, 24, 25, 27, 28, 29}"
      ]
     },
     "execution_count": 25,
     "metadata": {},
     "output_type": "execute_result"
    }
   ],
   "source": [
    "age_set"
   ]
  },
  {
   "cell_type": "code",
   "execution_count": 26,
   "id": "86e025cb-d8e8-4c70-820f-c2ab9fea46ec",
   "metadata": {},
   "outputs": [
    {
     "ename": "KeyError",
     "evalue": "30",
     "output_type": "error",
     "traceback": [
      "\u001b[0;31m---------------------------------------------------------------------------\u001b[0m",
      "\u001b[0;31mKeyError\u001b[0m                                  Traceback (most recent call last)",
      "Cell \u001b[0;32mIn[26], line 3\u001b[0m\n\u001b[1;32m      1\u001b[0m \u001b[38;5;66;03m#remove & discad methods\u001b[39;00m\n\u001b[0;32m----> 3\u001b[0m age_set\u001b[38;5;241m.\u001b[39mremove(\u001b[38;5;241m30\u001b[39m)\n",
      "\u001b[0;31mKeyError\u001b[0m: 30"
     ]
    }
   ],
   "source": [
    "#remove method throws an error if the element is not in the set \n",
    "\n",
    "age_set.remove(30)"
   ]
  },
  {
   "cell_type": "code",
   "execution_count": 28,
   "id": "7b55886e-37db-49e6-97c4-1e27ada129d1",
   "metadata": {},
   "outputs": [],
   "source": [
    "#discard method does not throws an error if the element is not in the set, if it available in list it removes othervise paas it without throwing error.\n",
    "\n",
    "\n",
    "age_set.discard(30)"
   ]
  },
  {
   "cell_type": "code",
   "execution_count": 30,
   "id": "e5e111aa-0e34-46ee-a56d-807eb24a5c6c",
   "metadata": {},
   "outputs": [
    {
     "data": {
      "text/plain": [
       "23"
      ]
     },
     "execution_count": 30,
     "metadata": {},
     "output_type": "execute_result"
    }
   ],
   "source": [
    "#remove randome elements from set and return it.\n",
    "\n",
    "age_set.pop()"
   ]
  },
  {
   "cell_type": "code",
   "execution_count": 33,
   "id": "20d3a671-2e82-4612-aa06-032b7eaf6b29",
   "metadata": {},
   "outputs": [
    {
     "data": {
      "text/plain": [
       "{1, 2, 3, 4, 5, 6, 7}"
      ]
     },
     "execution_count": 33,
     "metadata": {},
     "output_type": "execute_result"
    }
   ],
   "source": [
    "#union- create a new set from both with missing elements and return a new set without changing the orignal sets.\n",
    "\n",
    "set1 = {1, 2 , 3 , 4}\n",
    "set2 = {3, 4, 5, 6, 7}\n",
    "\n",
    "set1.union(set2)"
   ]
  },
  {
   "cell_type": "code",
   "execution_count": 35,
   "id": "8e49e7c7-37e6-49f8-8769-0a3e600f40a9",
   "metadata": {},
   "outputs": [
    {
     "data": {
      "text/plain": [
       "{3, 4}"
      ]
     },
     "execution_count": 35,
     "metadata": {},
     "output_type": "execute_result"
    }
   ],
   "source": [
    "#return the same/common elements from both sets\n",
    "\n",
    "set1.intersection(set2)"
   ]
  },
  {
   "cell_type": "code",
   "execution_count": 36,
   "id": "adcad351-94ec-42a0-bc66-a6d9c0cec450",
   "metadata": {},
   "outputs": [
    {
     "data": {
      "text/plain": [
       "True"
      ]
     },
     "execution_count": 36,
     "metadata": {},
     "output_type": "execute_result"
    }
   ],
   "source": [
    "#subset- If the set have some elements of another set which is defined before its called as sbset, \n",
    "#vice versa the another set called as superset of that subset because its carrying the same elements from superset.\n",
    "#it return bolean values \n",
    "\n",
    "\n",
    "sub = {1, 3}\n",
    "\n",
    "sub.issubset(set1)\n",
    "\n"
   ]
  },
  {
   "cell_type": "code",
   "execution_count": 38,
   "id": "9213578e-4497-4d03-aae6-8dbb341280ff",
   "metadata": {},
   "outputs": [
    {
     "data": {
      "text/plain": [
       "True"
      ]
     },
     "execution_count": 38,
     "metadata": {},
     "output_type": "execute_result"
    }
   ],
   "source": [
    "set1.issuperset(sub)"
   ]
  },
  {
   "cell_type": "code",
   "execution_count": null,
   "id": "360a6209-556b-4b02-bc9b-0693da6aa43d",
   "metadata": {},
   "outputs": [],
   "source": []
  }
 ],
 "metadata": {
  "kernelspec": {
   "display_name": "Python [conda env:base] *",
   "language": "python",
   "name": "conda-base-py"
  },
  "language_info": {
   "codemirror_mode": {
    "name": "ipython",
    "version": 3
   },
   "file_extension": ".py",
   "mimetype": "text/x-python",
   "name": "python",
   "nbconvert_exporter": "python",
   "pygments_lexer": "ipython3",
   "version": "3.13.5"
  }
 },
 "nbformat": 4,
 "nbformat_minor": 5
}
