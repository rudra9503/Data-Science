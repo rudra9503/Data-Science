{
 "cells": [
  {
   "cell_type": "markdown",
   "id": "a589bb90-528b-4c49-8f79-5f29723481e5",
   "metadata": {},
   "source": [
    "**LAMBDA FUNCTION IN PYTHON**\n",
    "\n",
    "it is single -expression function defined using lambda keyword.\n",
    "it is used for short, thowaway functions, where a full function defination is unnecessary."
   ]
  },
  {
   "cell_type": "markdown",
   "id": "b18fc2e5-89c3-49e1-8246-99edc65ba833",
   "metadata": {},
   "source": [
    "#syntax-\n",
    "\n",
    "lambda arguments: expression"
   ]
  },
  {
   "cell_type": "markdown",
   "id": "c64cc127-69dd-4c96-8558-b03157050299",
   "metadata": {},
   "source": [
    "-lambda -> Keyword to define lambda function\n",
    "\n",
    "-arguments -> Input parameters(comma-seperated)\n",
    "\n",
    "-expression -> The operation perform(must be single expression not multiple llines)"
   ]
  },
  {
   "cell_type": "code",
   "execution_count": 4,
   "id": "4baf7ac7-3684-4d5c-b490-6bc4f8323857",
   "metadata": {},
   "outputs": [],
   "source": [
    "cube = lambda x: x*x*x"
   ]
  },
  {
   "cell_type": "code",
   "execution_count": 5,
   "id": "042cceda-275c-4f3f-b992-903d4c384552",
   "metadata": {},
   "outputs": [
    {
     "data": {
      "text/plain": [
       "27"
      ]
     },
     "execution_count": 5,
     "metadata": {},
     "output_type": "execute_result"
    }
   ],
   "source": [
    "cube(3)"
   ]
  },
  {
   "cell_type": "code",
   "execution_count": null,
   "id": "79fec676-6076-4b7d-8281-0dbde29db34e",
   "metadata": {},
   "outputs": [],
   "source": []
  },
  {
   "cell_type": "code",
   "execution_count": null,
   "id": "3c3fe6e9-0392-4dc3-ba5e-7a182d180004",
   "metadata": {},
   "outputs": [],
   "source": []
  },
  {
   "cell_type": "code",
   "execution_count": null,
   "id": "0c39f4f3-02e3-4a4b-9e4e-43a78193c99a",
   "metadata": {},
   "outputs": [],
   "source": []
  },
  {
   "cell_type": "code",
   "execution_count": null,
   "id": "5ffb20ae-5dd3-403e-8327-d0ae3667eeef",
   "metadata": {},
   "outputs": [],
   "source": []
  }
 ],
 "metadata": {
  "kernelspec": {
   "display_name": "Python [conda env:base] *",
   "language": "python",
   "name": "conda-base-py"
  },
  "language_info": {
   "codemirror_mode": {
    "name": "ipython",
    "version": 3
   },
   "file_extension": ".py",
   "mimetype": "text/x-python",
   "name": "python",
   "nbconvert_exporter": "python",
   "pygments_lexer": "ipython3",
   "version": "3.13.5"
  }
 },
 "nbformat": 4,
 "nbformat_minor": 5
}
