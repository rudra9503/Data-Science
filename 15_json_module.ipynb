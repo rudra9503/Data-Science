{
 "cells": [
  {
   "cell_type": "markdown",
   "id": "da6a968a-6642-439d-8e9c-0bc29e5db335",
   "metadata": {},
   "source": [
    "**JSON MODULE**\n",
    "\n",
    "what is JSON?\n",
    "JSON (javascript object notation) is a lightweight data format used to data exchange between severs \n",
    "and application, it widely used in API's, WEB Applications, and configurations.\n",
    "\n",
    "python provide json module to work with JSON data."
   ]
  },
  {
   "cell_type": "code",
   "execution_count": 1,
   "id": "18f594eb-1729-4d1a-b89d-f35a83acf630",
   "metadata": {},
   "outputs": [],
   "source": [
    "#to import json module we have to use following line\n",
    "\n",
    "import json"
   ]
  },
  {
   "cell_type": "code",
   "execution_count": 2,
   "id": "1953fb39-e0d4-4af5-a960-368d35f002a6",
   "metadata": {},
   "outputs": [],
   "source": [
    "import json"
   ]
  },
  {
   "cell_type": "code",
   "execution_count": 4,
   "id": "85c7dddf-8ad8-4f03-9bdb-e181917e92de",
   "metadata": {},
   "outputs": [],
   "source": [
    "obj = {\"name\": \"Rudraksh\", \"company\": \"Next IN\", }\n",
    "s = json.dumps(obj)"
   ]
  },
  {
   "cell_type": "code",
   "execution_count": 5,
   "id": "7d12d703-7a88-4860-a412-2801c86b905f",
   "metadata": {},
   "outputs": [
    {
     "data": {
      "text/plain": [
       "str"
      ]
     },
     "execution_count": 5,
     "metadata": {},
     "output_type": "execute_result"
    }
   ],
   "source": [
    "type(s)\n"
   ]
  },
  {
   "cell_type": "code",
   "execution_count": 6,
   "id": "766b9de4-0845-4d15-8a68-335a97e75b20",
   "metadata": {},
   "outputs": [
    {
     "name": "stdout",
     "output_type": "stream",
     "text": [
      "{\"name\": \"Rudraksh\", \"company\": \"Next IN\"}\n"
     ]
    }
   ],
   "source": [
    "print(s)"
   ]
  },
  {
   "cell_type": "code",
   "execution_count": 7,
   "id": "3e02637f-3907-44d3-8aba-51d720a067d7",
   "metadata": {},
   "outputs": [],
   "source": [
    "#dumps- convert python object in to json string\n",
    "#loads- convert json string in to python object"
   ]
  },
  {
   "cell_type": "code",
   "execution_count": 8,
   "id": "633c668d-3afc-4bf5-962c-b49af4018dcf",
   "metadata": {},
   "outputs": [],
   "source": [
    "d = json.loads('{\"name\": \"Rudraksh\", \"company\": \"Next IN\"}')   #its string of json in inverted commas.."
   ]
  },
  {
   "cell_type": "code",
   "execution_count": 9,
   "id": "b214f4ad-efb7-48a4-8bb8-f43c1bfdabe4",
   "metadata": {},
   "outputs": [
    {
     "name": "stdout",
     "output_type": "stream",
     "text": [
      "{'name': 'Rudraksh', 'company': 'Next IN'}\n"
     ]
    }
   ],
   "source": [
    "print(d)"
   ]
  },
  {
   "cell_type": "code",
   "execution_count": 11,
   "id": "603ecc84-1af1-442d-9c15-2860f83fa7c7",
   "metadata": {},
   "outputs": [
    {
     "data": {
      "text/plain": [
       "dict"
      ]
     },
     "execution_count": 11,
     "metadata": {},
     "output_type": "execute_result"
    }
   ],
   "source": [
    "type(d) #its a type of data in python."
   ]
  },
  {
   "cell_type": "code",
   "execution_count": 12,
   "id": "ad91e14d-e875-4439-b72b-0b5912e5dbe5",
   "metadata": {},
   "outputs": [],
   "source": [
    "#using dump over dumps- \n",
    "\n",
    "\n",
    "f = open(\"data.json\", \"w\")"
   ]
  },
  {
   "cell_type": "code",
   "execution_count": 13,
   "id": "8792aac4-940d-4829-801b-d80005115901",
   "metadata": {},
   "outputs": [],
   "source": [
    "json.dump(obj, f)"
   ]
  },
  {
   "cell_type": "code",
   "execution_count": 14,
   "id": "eab0b845-5396-4d66-bcd6-c864cda37a9c",
   "metadata": {},
   "outputs": [],
   "source": [
    "f.close()"
   ]
  },
  {
   "cell_type": "code",
   "execution_count": null,
   "id": "530c0d6e-f3eb-4bf0-bd93-2cdca0496d88",
   "metadata": {},
   "outputs": [],
   "source": []
  }
 ],
 "metadata": {
  "kernelspec": {
   "display_name": "Python [conda env:base] *",
   "language": "python",
   "name": "conda-base-py"
  },
  "language_info": {
   "codemirror_mode": {
    "name": "ipython",
    "version": 3
   },
   "file_extension": ".py",
   "mimetype": "text/x-python",
   "name": "python",
   "nbconvert_exporter": "python",
   "pygments_lexer": "ipython3",
   "version": "3.13.5"
  }
 },
 "nbformat": 4,
 "nbformat_minor": 5
}
