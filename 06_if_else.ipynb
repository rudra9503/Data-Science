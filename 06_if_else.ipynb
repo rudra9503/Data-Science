{
 "cells": [
  {
   "cell_type": "markdown",
   "id": "5f7e4e9f-3329-4380-a336-f452c19edeab",
   "metadata": {},
   "source": [
    "**If else Conditions & Fuctions**\n",
    "\n",
    "\n",
    "In python conditions statements (if, elif, else) are used to controle the flow of program based on conditions.\n",
    "These are  essentials in data science or handling differnt scenarioes, in data processing, decision-making and logic execution.\n",
    "\n",
    "\n",
    "**Basic If Statement**\n",
    "\n",
    "The \"if\" statement allows you to execute a block of code only if condition is True."
   ]
  },
  {
   "cell_type": "code",
   "execution_count": 18,
   "id": "655bfd1a-c807-474a-81ef-7c04c8b5c302",
   "metadata": {},
   "outputs": [
    {
     "name": "stdout",
     "output_type": "stream",
     "text": [
      "X is greater\n"
     ]
    }
   ],
   "source": [
    "x = 10 \n",
    "if x > 5:\n",
    "    print(\"X is greater\")"
   ]
  },
  {
   "cell_type": "markdown",
   "id": "ac4db1c1-2b1b-4838-ad02-874f04ae6b11",
   "metadata": {},
   "source": [
    "**If-Else Statement**\n",
    "The \"else\" block executes when \"if\" condition is False."
   ]
  },
  {
   "cell_type": "code",
   "execution_count": 19,
   "id": "12bee723-a27f-41f0-bf5f-b0ad0349be79",
   "metadata": {},
   "outputs": [
    {
     "name": "stdout",
     "output_type": "stream",
     "text": [
      "X is greater then 5 but not more than 10\n"
     ]
    }
   ],
   "source": [
    "x = 7\n",
    "if x > 10:\n",
    "    print(\"X is Greater\")\n",
    "elif x > 5:\n",
    "    print(\"X is greater then 5 but not more than 10\")\n",
    "elif x == 5:\n",
    "    print(\"X is exactly 5\")\n",
    "else:\n",
    "    print(\"x is less than 5\")\n",
    "    \n"
   ]
  },
  {
   "cell_type": "markdown",
   "id": "42c064a8-511a-45a1-8207-4216753ddc8e",
   "metadata": {},
   "source": [
    "**If Else Using Data Science** "
   ]
  },
  {
   "cell_type": "code",
   "execution_count": 20,
   "id": "6d8e04fd-2598-4b6e-99a5-b82cafa6a3b4",
   "metadata": {},
   "outputs": [
    {
     "name": "stdout",
     "output_type": "stream",
     "text": [
      "category: Adult\n"
     ]
    }
   ],
   "source": [
    "#example\n",
    "age =22\n",
    "if age < 18:\n",
    "    category = \"Minor\"\n",
    "elif age < 65:\n",
    "    category = \"Adult\"\n",
    "else:\n",
    "    category = \"Senior Citizen\"\n",
    "\n",
    "print( \"category:\" , category)\n"
   ]
  },
  {
   "cell_type": "markdown",
   "id": "03a7e8bc-632d-47fb-a48e-aab905f86117",
   "metadata": {},
   "source": [
    "**Functions**\n",
    "\n",
    "In python to create a funtion we have to use a specific keyword \"def\".\n",
    "\n",
    "like:\n",
    "\n",
    "def function_name():\n",
    "        return\n",
    "\n",
    "then we have to call it to execute"
   ]
  },
  {
   "cell_type": "code",
   "execution_count": 21,
   "id": "0276da42-1120-4422-a545-a4abf7ffe7e1",
   "metadata": {},
   "outputs": [],
   "source": [
    "#example \n",
    "\n",
    "def avg():\n",
    "    return"
   ]
  },
  {
   "cell_type": "code",
   "execution_count": 22,
   "id": "2ad436dd-d4b7-4425-9e3d-d1af67955488",
   "metadata": {},
   "outputs": [
    {
     "data": {
      "text/plain": [
       "3.5"
      ]
     },
     "execution_count": 22,
     "metadata": {},
     "output_type": "execute_result"
    }
   ],
   "source": [
    "#Function with arguments \n",
    "\n",
    "def avg(a,b):\n",
    "    return a+b/2\n",
    "\n",
    "avg(2,3)"
   ]
  },
  {
   "cell_type": "code",
   "execution_count": null,
   "id": "3b437d5c-5b55-4083-be3a-a84655c8ea20",
   "metadata": {},
   "outputs": [],
   "source": []
  }
 ],
 "metadata": {
  "kernelspec": {
   "display_name": "Python [conda env:base] *",
   "language": "python",
   "name": "conda-base-py"
  },
  "language_info": {
   "codemirror_mode": {
    "name": "ipython",
    "version": 3
   },
   "file_extension": ".py",
   "mimetype": "text/x-python",
   "name": "python",
   "nbconvert_exporter": "python",
   "pygments_lexer": "ipython3",
   "version": "3.13.5"
  }
 },
 "nbformat": 4,
 "nbformat_minor": 5
}
