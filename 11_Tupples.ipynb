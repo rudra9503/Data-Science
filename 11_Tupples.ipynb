{
 "cells": [
  {
   "cell_type": "markdown",
   "id": "d4f63a1e-973d-4605-bca2-8d80f9c32ea9",
   "metadata": {},
   "source": [
    "**TUPPLES AND METHODS**\n",
    "\n",
    "Tupple is a imutable datatype in python, it's not changable like list indicates within ().\n"
   ]
  },
  {
   "cell_type": "code",
   "execution_count": 3,
   "id": "6723cc95-494b-44b4-92cf-af04192f5d08",
   "metadata": {},
   "outputs": [
    {
     "name": "stdout",
     "output_type": "stream",
     "text": [
      "()\n"
     ]
    },
    {
     "data": {
      "text/plain": [
       "tuple"
      ]
     },
     "execution_count": 3,
     "metadata": {},
     "output_type": "execute_result"
    }
   ],
   "source": [
    "#empty tuple \n",
    "\n",
    "et = ()\n",
    "\n",
    "print(et)\n",
    "\n",
    "type(et)"
   ]
  },
  {
   "cell_type": "code",
   "execution_count": 4,
   "id": "bc15ba62-7d5b-4075-971d-29cf4e22af08",
   "metadata": {},
   "outputs": [
    {
     "data": {
      "text/plain": [
       "4"
      ]
     },
     "execution_count": 4,
     "metadata": {},
     "output_type": "execute_result"
    }
   ],
   "source": [
    "t = ( 10, 12, 14, 16)\n",
    "\n",
    "len(t)"
   ]
  },
  {
   "cell_type": "code",
   "execution_count": 5,
   "id": "0f8469bb-ab1a-487f-b628-0f45f47889fa",
   "metadata": {},
   "outputs": [
    {
     "data": {
      "text/plain": [
       "14"
      ]
     },
     "execution_count": 5,
     "metadata": {},
     "output_type": "execute_result"
    }
   ],
   "source": [
    "#accessing elements is same like lis\n",
    "\n",
    "t[2]"
   ]
  },
  {
   "cell_type": "code",
   "execution_count": 6,
   "id": "d749f6ba-5b8b-405f-9a23-a5281b0cd888",
   "metadata": {},
   "outputs": [],
   "source": [
    "#packing and unpacking of tuple \n",
    "\n",
    "person = ( \"Rudraksh\", 22, \"Software Engineer\")\n",
    "\n",
    "name, age, designation= person"
   ]
  },
  {
   "cell_type": "code",
   "execution_count": 8,
   "id": "06094b80-79e0-45c4-b41b-6b8f02a8033e",
   "metadata": {},
   "outputs": [
    {
     "data": {
      "text/plain": [
       "'Rudraksh'"
      ]
     },
     "execution_count": 8,
     "metadata": {},
     "output_type": "execute_result"
    }
   ],
   "source": [
    "name\n"
   ]
  },
  {
   "cell_type": "code",
   "execution_count": 9,
   "id": "4cb9c68d-998d-4b31-8434-73cc2132f01a",
   "metadata": {},
   "outputs": [
    {
     "data": {
      "text/plain": [
       "22"
      ]
     },
     "execution_count": 9,
     "metadata": {},
     "output_type": "execute_result"
    }
   ],
   "source": [
    "age"
   ]
  },
  {
   "cell_type": "code",
   "execution_count": 10,
   "id": "50b7ea4d-6c07-451d-a4ea-dd4340abed46",
   "metadata": {},
   "outputs": [
    {
     "data": {
      "text/plain": [
       "'Software Engineer'"
      ]
     },
     "execution_count": 10,
     "metadata": {},
     "output_type": "execute_result"
    }
   ],
   "source": [
    "designation"
   ]
  },
  {
   "cell_type": "code",
   "execution_count": null,
   "id": "e6f080bd-8b69-495b-a707-9a647400c778",
   "metadata": {},
   "outputs": [],
   "source": []
  }
 ],
 "metadata": {
  "kernelspec": {
   "display_name": "Python [conda env:base] *",
   "language": "python",
   "name": "conda-base-py"
  },
  "language_info": {
   "codemirror_mode": {
    "name": "ipython",
    "version": 3
   },
   "file_extension": ".py",
   "mimetype": "text/x-python",
   "name": "python",
   "nbconvert_exporter": "python",
   "pygments_lexer": "ipython3",
   "version": "3.13.5"
  }
 },
 "nbformat": 4,
 "nbformat_minor": 5
}
