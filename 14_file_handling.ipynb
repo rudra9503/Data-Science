{
 "cells": [
  {
   "cell_type": "markdown",
   "id": "6e81a0a7-fdeb-4fa8-941c-c703f13f94da",
   "metadata": {},
   "source": [
    "**FILE HANDLING IN PYTHON**\n",
    "\n",
    "it allows you to read, write and, manipulate the files on the disk, also have built fuctions for file handling in python."
   ]
  },
  {
   "cell_type": "code",
   "execution_count": 20,
   "id": "5a4dd774-45e0-4fd3-befc-e543af0b670c",
   "metadata": {},
   "outputs": [],
   "source": [
    "f = open(\"text.txt\", \"r\")"
   ]
  },
  {
   "cell_type": "code",
   "execution_count": 21,
   "id": "c20f7840-d8cf-4868-be49-d75e39b13949",
   "metadata": {},
   "outputs": [
    {
     "data": {
      "text/plain": [
       "'This is the test line to check the write funtion...'"
      ]
     },
     "execution_count": 21,
     "metadata": {},
     "output_type": "execute_result"
    }
   ],
   "source": [
    "f.read()"
   ]
  },
  {
   "cell_type": "code",
   "execution_count": 34,
   "id": "f0211b54-80cd-431f-9d8f-01ed072fe63f",
   "metadata": {},
   "outputs": [],
   "source": [
    "f.close()"
   ]
  },
  {
   "cell_type": "code",
   "execution_count": 35,
   "id": "b985ad66-01fd-40d8-b841-ca4cba07d4f9",
   "metadata": {},
   "outputs": [],
   "source": [
    "f = open(\"new.txt\", \"w\")"
   ]
  },
  {
   "cell_type": "code",
   "execution_count": 36,
   "id": "4a1dbe5a-00c6-49f7-b884-94f1a909a45b",
   "metadata": {},
   "outputs": [],
   "source": [
    "hey = \"This is the test line to check the write funtion...\""
   ]
  },
  {
   "cell_type": "code",
   "execution_count": 37,
   "id": "24acca01-f818-453b-a2f3-14fedbca948b",
   "metadata": {},
   "outputs": [
    {
     "data": {
      "text/plain": [
       "51"
      ]
     },
     "execution_count": 37,
     "metadata": {},
     "output_type": "execute_result"
    }
   ],
   "source": [
    "f.write(hey)"
   ]
  },
  {
   "cell_type": "code",
   "execution_count": 33,
   "id": "933b085e-dbf2-4d68-8084-851ce28bbe42",
   "metadata": {},
   "outputs": [],
   "source": [
    "f.close()"
   ]
  },
  {
   "cell_type": "code",
   "execution_count": null,
   "id": "c677b437-38d0-4193-bb08-25548dcffeb7",
   "metadata": {},
   "outputs": [],
   "source": []
  }
 ],
 "metadata": {
  "kernelspec": {
   "display_name": "Python [conda env:base] *",
   "language": "python",
   "name": "conda-base-py"
  },
  "language_info": {
   "codemirror_mode": {
    "name": "ipython",
    "version": 3
   },
   "file_extension": ".py",
   "mimetype": "text/x-python",
   "name": "python",
   "nbconvert_exporter": "python",
   "pygments_lexer": "ipython3",
   "version": "3.13.5"
  }
 },
 "nbformat": 4,
 "nbformat_minor": 5
}
