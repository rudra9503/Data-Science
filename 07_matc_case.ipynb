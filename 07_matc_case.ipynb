{
 "cells": [
  {
   "cell_type": "markdown",
   "id": "d4c550c5-bea1-4e51-bcae-c25a22fe631e",
   "metadata": {},
   "source": [
    "**Match Case**"
   ]
  },
  {
   "cell_type": "markdown",
   "id": "035542b2-9876-4417-aec1-024760ca0447",
   "metadata": {},
   "source": [
    "The match-case statement is similar to switch case in another languages."
   ]
  },
  {
   "cell_type": "code",
   "execution_count": 20,
   "id": "d790fecb-0ed2-4d12-b7e3-3283e0ec5d29",
   "metadata": {},
   "outputs": [],
   "source": [
    "#example\n",
    "\n",
    "code = 404\n"
   ]
  },
  {
   "cell_type": "code",
   "execution_count": 21,
   "id": "e80dec76-52bf-4892-b10e-d5c74f59e02f",
   "metadata": {},
   "outputs": [
    {
     "name": "stdout",
     "output_type": "stream",
     "text": [
      "Not found\n"
     ]
    }
   ],
   "source": [
    "match code:\n",
    "    case 200:\n",
    "        print(\"Response Ok\")\n",
    "        print(\"Code is is working Fine\")\n",
    "    case 400:\n",
    "        print(\"Bad Response\")\n",
    "    case 404:\n",
    "        print(\"Not found\")\n",
    "    case _:\n",
    "        print(\"Check the code again having internal issues...\")\n"
   ]
  },
  {
   "cell_type": "code",
   "execution_count": null,
   "id": "f7992401-0a89-4feb-a273-fbb3955e83f8",
   "metadata": {},
   "outputs": [],
   "source": []
  }
 ],
 "metadata": {
  "kernelspec": {
   "display_name": "Python [conda env:base] *",
   "language": "python",
   "name": "conda-base-py"
  },
  "language_info": {
   "codemirror_mode": {
    "name": "ipython",
    "version": 3
   },
   "file_extension": ".py",
   "mimetype": "text/x-python",
   "name": "python",
   "nbconvert_exporter": "python",
   "pygments_lexer": "ipython3",
   "version": "3.13.5"
  }
 },
 "nbformat": 4,
 "nbformat_minor": 5
}
