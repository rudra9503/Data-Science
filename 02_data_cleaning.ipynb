{
 "cells": [
  {
   "cell_type": "code",
   "execution_count": 1,
   "id": "7bbf3966-ffd1-4dee-ab64-22df8a10d58a",
   "metadata": {},
   "outputs": [],
   "source": [
    "#First we have to load the data \n",
    "\n",
    "import json"
   ]
  },
  {
   "cell_type": "code",
   "execution_count": 6,
   "id": "47eec2da-2ce7-4cbb-aeeb-315b982b9498",
   "metadata": {},
   "outputs": [
    {
     "name": "stdout",
     "output_type": "stream",
     "text": [
      "Data Cleaned Succuessfully\n"
     ]
    }
   ],
   "source": [
    "#function for leaning data\n",
    "\n",
    "def clean_data(data):\n",
    "    #removing users with missing names- using strip to remove users with empty values  \n",
    "    data[\"users\"] = [user for user in data[\"users\"] if user[\"name\"].strip()]\n",
    "\n",
    "    #removing the duplicate friends data \n",
    "    for user in data [\"users\"]:\n",
    "        user['friends'] = list(set(user['friends']))\n",
    "    #removing inactive users..\n",
    "    data['users'] = [user for user in data['users'] if user['friends'] or  user['liked_pages']]\n",
    "   #removing duplicate pages \n",
    "    unique_pages = {}\n",
    "    for page in data['pages']:\n",
    "        unique_pages[page['id']] = page\n",
    "    data['pages'] = list(unique_pages.values())\n",
    "    \n",
    "    return data\n",
    "\n",
    "#creating function for load the data\n",
    "data = json.load(open(\"data2.json\", \"r\"))\n",
    "data = clean_data(data)\n",
    "json.dump(data,open(\"clean_data2.json\",\"w\"), indent=4)\n",
    "print(\"Data Cleaned Succuessfully\")"
   ]
  },
  {
   "cell_type": "code",
   "execution_count": 7,
   "id": "35783521-e814-493d-9151-d9f68988e18b",
   "metadata": {},
   "outputs": [
    {
     "name": "stdout",
     "output_type": "stream",
     "text": [
      "User and thier connections \n",
      "\n",
      "ID:1- Amit is frirnds with:[2, 3] and liked pages are:[101]\n",
      "\n",
      "ID:2- Priya is frirnds with:[1, 4] and liked pages are:[102]\n",
      "\n",
      "ID:4- Sara is frirnds with:[2] and liked pages are:[104]\n",
      "\n",
      "**Pages Information**\n",
      "\n",
      "101: Python Developers\n",
      "102: Data Science Enthusiasts\n",
      "103: AI & ML Community\n",
      "104: Web Development\n"
     ]
    }
   ],
   "source": [
    "def display_users(data):\n",
    "    print(\"User and thier connections \\n\")\n",
    "    for user in data['users']:\n",
    "        print(f\"ID:{user['id']}- {user['name']} is frirnds with:{user['friends']} and liked pages are:{user['liked_pages']}\\n\")\n",
    "    print(\"**Pages Information**\\n\")\n",
    "    for page in data['pages']:\n",
    "        print(f\"{page['id']}: {page['name']}\")\n",
    "\n",
    "display_users(data)"
   ]
  },
  {
   "cell_type": "code",
   "execution_count": null,
   "id": "87a7d62a-64ca-4bd3-a495-c2a7752ad534",
   "metadata": {},
   "outputs": [],
   "source": []
  },
  {
   "cell_type": "code",
   "execution_count": null,
   "id": "34930f93-47f5-489d-9097-5a7a33fd43b3",
   "metadata": {},
   "outputs": [],
   "source": []
  }
 ],
 "metadata": {
  "kernelspec": {
   "display_name": "Python [conda env:base] *",
   "language": "python",
   "name": "conda-base-py"
  },
  "language_info": {
   "codemirror_mode": {
    "name": "ipython",
    "version": 3
   },
   "file_extension": ".py",
   "mimetype": "text/x-python",
   "name": "python",
   "nbconvert_exporter": "python",
   "pygments_lexer": "ipython3",
   "version": "3.13.5"
  }
 },
 "nbformat": 4,
 "nbformat_minor": 5
}
