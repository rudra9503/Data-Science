{
 "cells": [
  {
   "cell_type": "code",
   "execution_count": 27,
   "id": "0035b078-c5a5-4ad4-844b-273198ec3910",
   "metadata": {},
   "outputs": [
    {
     "name": "stdout",
     "output_type": "stream",
     "text": [
      "[5, 9, 16, 14, 17, 1, 2, 4, 8, 7, 15, 19, 20, 24]\n"
     ]
    }
   ],
   "source": [
    "import json\n",
    "\n",
    "def load_data(filename):\n",
    "    with open(filename, \"r\") as f:\n",
    "        return json.load(f)\n",
    "\n",
    "def find_people_you_may_know(user_id, data):\n",
    "    user_friends = {}\n",
    "    for user in data['users']:\n",
    "        user_friends[user['id']]= set(user['friends'])\n",
    "    if user_id not in user_friends:\n",
    "        return []\n",
    "        \n",
    "    direct_friends = user_friends[user_id]\n",
    "    suggestions = {}\n",
    "    for friends in direct_friends:\n",
    "        for mutual in user_friends[friends]:\n",
    "            if mutual != user_id and mutual not in direct_friends:\n",
    "                suggestions[mutual] = suggestions.get(mutual, 0) + 1\n",
    "    sorted_suggestions = sorted(suggestions.items(),key=lambda x: x[1], reverse= True)\n",
    "    return[ user_id for user_id, mutual_count in sorted_suggestions]\n",
    "\n",
    "#load data\n",
    "data = load_data(\"massive_data.json\")\n",
    "user_id = 12\n",
    "recc = find_people_you_may_know(user_id, data)\n",
    "print(recc)\n"
   ]
  },
  {
   "cell_type": "code",
   "execution_count": null,
   "id": "f61fcaa4-8a61-4918-96ea-1334b9c69e2f",
   "metadata": {},
   "outputs": [],
   "source": []
  }
 ],
 "metadata": {
  "kernelspec": {
   "display_name": "Python [conda env:base] *",
   "language": "python",
   "name": "conda-base-py"
  },
  "language_info": {
   "codemirror_mode": {
    "name": "ipython",
    "version": 3
   },
   "file_extension": ".py",
   "mimetype": "text/x-python",
   "name": "python",
   "nbconvert_exporter": "python",
   "pygments_lexer": "ipython3",
   "version": "3.13.5"
  }
 },
 "nbformat": 4,
 "nbformat_minor": 5
}
