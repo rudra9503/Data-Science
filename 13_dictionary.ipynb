{
 "cells": [
  {
   "cell_type": "markdown",
   "id": "b21412f8-ce75-49eb-ac47-d6d7653ca740",
   "metadata": {},
   "source": [
    "**DICTIONARY IN PYTHON**\n",
    "\n",
    "it is a mutable, unorederd and key-value pair collection. it allows data retrival and moodification"
   ]
  },
  {
   "cell_type": "code",
   "execution_count": 1,
   "id": "170b2616-7302-4341-8dea-5a7ea32d5451",
   "metadata": {},
   "outputs": [
    {
     "data": {
      "text/plain": [
       "dict"
      ]
     },
     "execution_count": 1,
     "metadata": {},
     "output_type": "execute_result"
    }
   ],
   "source": [
    "#creating empty dictonary\n",
    "\n",
    "d = {}\n",
    "\n",
    "type(d)"
   ]
  },
  {
   "cell_type": "code",
   "execution_count": 3,
   "id": "633f726c-a73f-4fd6-a9e5-0ef180cbabcf",
   "metadata": {},
   "outputs": [],
   "source": [
    "#dictionary with key value pairs\n",
    "\n",
    "employees = {\n",
    "    \"e_id\" : \"00001\",\n",
    "    \"Name\" : \"Rudraksh\",\n",
    "    \"age\" : \"22\",\n",
    "    \"city\" : \"kolhapur\"\n",
    "}"
   ]
  },
  {
   "cell_type": "code",
   "execution_count": 6,
   "id": "482401c9-5ccc-4fc5-98a3-b9614a1f455b",
   "metadata": {},
   "outputs": [
    {
     "data": {
      "text/plain": [
       "'00001'"
      ]
     },
     "execution_count": 6,
     "metadata": {},
     "output_type": "execute_result"
    }
   ],
   "source": [
    "employees[\"e_id\"]"
   ]
  },
  {
   "cell_type": "code",
   "execution_count": 7,
   "id": "16b2498c-a1f8-422e-a68f-97695bc750e9",
   "metadata": {},
   "outputs": [
    {
     "data": {
      "text/plain": [
       "'Rudraksh'"
      ]
     },
     "execution_count": 7,
     "metadata": {},
     "output_type": "execute_result"
    }
   ],
   "source": [
    "employees[\"Name\"]"
   ]
  },
  {
   "cell_type": "code",
   "execution_count": 8,
   "id": "4f9847d1-2ec1-4cff-923e-220695f510f6",
   "metadata": {},
   "outputs": [
    {
     "data": {
      "text/plain": [
       "'22'"
      ]
     },
     "execution_count": 8,
     "metadata": {},
     "output_type": "execute_result"
    }
   ],
   "source": [
    "employees[\"age\"]"
   ]
  },
  {
   "cell_type": "code",
   "execution_count": 9,
   "id": "a36f2813-bbd3-4996-acb0-026cf45de244",
   "metadata": {},
   "outputs": [
    {
     "data": {
      "text/plain": [
       "'kolhapur'"
      ]
     },
     "execution_count": 9,
     "metadata": {},
     "output_type": "execute_result"
    }
   ],
   "source": [
    "employees.get(\"city\")"
   ]
  },
  {
   "cell_type": "code",
   "execution_count": 10,
   "id": "8ef9f29d-3a1a-4b84-ac28-36dfeaeab7b4",
   "metadata": {},
   "outputs": [],
   "source": [
    "#methods\n",
    "\n",
    "students = {\n",
    "    \"roll_no\" : \"01\",\n",
    "    \"Name\" : \"Rudraksh\",\n",
    "    \"age\" : \"22\",\n",
    "    \"city\" : \"kolhapur\"\n",
    "}"
   ]
  },
  {
   "cell_type": "code",
   "execution_count": 12,
   "id": "881a9162-4847-49d7-8ee5-6b59e53712a2",
   "metadata": {},
   "outputs": [
    {
     "name": "stdout",
     "output_type": "stream",
     "text": [
      "22\n"
     ]
    }
   ],
   "source": [
    "print(students[\"age\"])"
   ]
  },
  {
   "cell_type": "code",
   "execution_count": 15,
   "id": "4e76a9fd-94d3-48c4-a2ee-0937c99641c6",
   "metadata": {},
   "outputs": [],
   "source": [
    "#changing the data of dict\n",
    "students[\"age\"] = 22.6"
   ]
  },
  {
   "cell_type": "code",
   "execution_count": 16,
   "id": "c1e55235-e3d2-46c4-94b1-bbf3d2ef1239",
   "metadata": {},
   "outputs": [
    {
     "data": {
      "text/plain": [
       "{'roll_no': '01', 'Name': 'Rudraksh', 'age': 22.6, 'city': 'kolhapur'}"
      ]
     },
     "execution_count": 16,
     "metadata": {},
     "output_type": "execute_result"
    }
   ],
   "source": [
    "students"
   ]
  },
  {
   "cell_type": "code",
   "execution_count": 17,
   "id": "27289d7c-edd5-42aa-84a8-aa4e2c02d71c",
   "metadata": {},
   "outputs": [
    {
     "data": {
      "text/plain": [
       "dict_keys(['roll_no', 'Name', 'age', 'city'])"
      ]
     },
     "execution_count": 17,
     "metadata": {},
     "output_type": "execute_result"
    }
   ],
   "source": [
    "students.keys()"
   ]
  },
  {
   "cell_type": "code",
   "execution_count": 18,
   "id": "73bca059-c938-4c18-8f37-0ec0b6e36aa9",
   "metadata": {},
   "outputs": [
    {
     "data": {
      "text/plain": [
       "dict_values(['01', 'Rudraksh', 22.6, 'kolhapur'])"
      ]
     },
     "execution_count": 18,
     "metadata": {},
     "output_type": "execute_result"
    }
   ],
   "source": [
    "students.values()"
   ]
  },
  {
   "cell_type": "code",
   "execution_count": 19,
   "id": "2b0ba8d4-9b90-4a41-9925-5948dac96248",
   "metadata": {},
   "outputs": [
    {
     "data": {
      "text/plain": [
       "dict_items([('roll_no', '01'), ('Name', 'Rudraksh'), ('age', 22.6), ('city', 'kolhapur')])"
      ]
     },
     "execution_count": 19,
     "metadata": {},
     "output_type": "execute_result"
    }
   ],
   "source": [
    "students.items()"
   ]
  },
  {
   "cell_type": "code",
   "execution_count": 20,
   "id": "de3d32d0-9a5a-4150-b2da-7255ab31e991",
   "metadata": {},
   "outputs": [],
   "source": [
    "students.update({\"department\" : \"B.TECH CSE\"})"
   ]
  },
  {
   "cell_type": "code",
   "execution_count": 21,
   "id": "dc870cef-76e3-4336-8474-fcedc02fb03b",
   "metadata": {},
   "outputs": [
    {
     "data": {
      "text/plain": [
       "{'roll_no': '01',\n",
       " 'Name': 'Rudraksh',\n",
       " 'age': 22.6,\n",
       " 'city': 'kolhapur',\n",
       " 'department': 'B.TECH CSE'}"
      ]
     },
     "execution_count": 21,
     "metadata": {},
     "output_type": "execute_result"
    }
   ],
   "source": [
    "students"
   ]
  },
  {
   "cell_type": "code",
   "execution_count": null,
   "id": "15d089d5-5813-40e7-a1d7-7676a3e27edb",
   "metadata": {},
   "outputs": [],
   "source": []
  }
 ],
 "metadata": {
  "kernelspec": {
   "display_name": "Python [conda env:base] *",
   "language": "python",
   "name": "conda-base-py"
  },
  "language_info": {
   "codemirror_mode": {
    "name": "ipython",
    "version": 3
   },
   "file_extension": ".py",
   "mimetype": "text/x-python",
   "name": "python",
   "nbconvert_exporter": "python",
   "pygments_lexer": "ipython3",
   "version": "3.13.5"
  }
 },
 "nbformat": 4,
 "nbformat_minor": 5
}
