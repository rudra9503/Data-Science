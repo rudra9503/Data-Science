{
 "cells": [
  {
   "cell_type": "markdown",
   "id": "6a25bc2c-922f-4b33-832f-32b23b55b639",
   "metadata": {},
   "source": [
    "**LIST COMPRENSSION IN PYTHON**\n",
    "\n",
    "\n",
    "it allows you to create a lsit in python in efficient way, it create list in one line."
   ]
  },
  {
   "cell_type": "markdown",
   "id": "91247298-e011-4381-9a2f-78623337f003",
   "metadata": {},
   "source": [
    "-expression:The operation to perform on each item\n",
    "\n",
    "-item:the variable representing each element in iterable\n",
    "\n",
    "-iterable:the data structure being iterated over (list, range)\n",
    "\n",
    "[expression for item in iterable]"
   ]
  },
  {
   "cell_type": "code",
   "execution_count": 1,
   "id": "4b907ff6-9619-45fe-acf6-24f2c0ef3f23",
   "metadata": {},
   "outputs": [],
   "source": [
    "table = []"
   ]
  },
  {
   "cell_type": "code",
   "execution_count": 3,
   "id": "240c18bc-0ba3-40d9-b360-da655fb8a0df",
   "metadata": {},
   "outputs": [
    {
     "name": "stdout",
     "output_type": "stream",
     "text": [
      "2 X 1 = 2\n",
      "2 X 2 = 4\n",
      "2 X 3 = 6\n",
      "2 X 4 = 8\n",
      "2 X 5 = 10\n",
      "2 X 6 = 12\n",
      "2 X 7 = 14\n",
      "2 X 8 = 16\n",
      "2 X 9 = 18\n",
      "2 X 10 = 20\n"
     ]
    }
   ],
   "source": [
    "for i in range(1, 11):\n",
    "    print(f\"2 X {i} = {2*i}\")\n",
    "    table.append(2*i)"
   ]
  },
  {
   "cell_type": "code",
   "execution_count": 4,
   "id": "3f4fc7a9-2903-444d-8ef5-c2a375aaf1f0",
   "metadata": {},
   "outputs": [
    {
     "data": {
      "text/plain": [
       "[2, 4, 6, 8, 10, 12, 14, 16, 18, 20]"
      ]
     },
     "execution_count": 4,
     "metadata": {},
     "output_type": "execute_result"
    }
   ],
   "source": [
    "table"
   ]
  },
  {
   "cell_type": "code",
   "execution_count": 8,
   "id": "ad734b38-0bfe-4686-8fb2-77deefb1d8c9",
   "metadata": {},
   "outputs": [],
   "source": [
    "t = [2*i for i in range(1,11) if i%2 == 0]"
   ]
  },
  {
   "cell_type": "code",
   "execution_count": 9,
   "id": "96f3813f-3122-44f4-8ebd-bb05a2f5e12e",
   "metadata": {},
   "outputs": [
    {
     "data": {
      "text/plain": [
       "[4, 8, 12, 16, 20]"
      ]
     },
     "execution_count": 9,
     "metadata": {},
     "output_type": "execute_result"
    }
   ],
   "source": [
    "t"
   ]
  },
  {
   "cell_type": "code",
   "execution_count": null,
   "id": "2c9f9a37-5bba-4175-a133-c2931378f902",
   "metadata": {},
   "outputs": [],
   "source": []
  }
 ],
 "metadata": {
  "kernelspec": {
   "display_name": "Python [conda env:base] *",
   "language": "python",
   "name": "conda-base-py"
  },
  "language_info": {
   "codemirror_mode": {
    "name": "ipython",
    "version": 3
   },
   "file_extension": ".py",
   "mimetype": "text/x-python",
   "name": "python",
   "nbconvert_exporter": "python",
   "pygments_lexer": "ipython3",
   "version": "3.13.5"
  }
 },
 "nbformat": 4,
 "nbformat_minor": 5
}
